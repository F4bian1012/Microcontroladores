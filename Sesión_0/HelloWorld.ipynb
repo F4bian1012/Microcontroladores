{
  "cells": [
    {
      "cell_type": "code",
      "execution_count": 2,
      "metadata": {
        "colab": {
          "base_uri": "https://localhost:8080/"
        },
        "id": "hABfZayhjQ80",
        "outputId": "079ba1b1-9239-438e-d5c1-8474ecb1a524"
      },
      "outputs": [
        {
          "name": "stdout",
          "output_type": "stream",
          "text": [
            "Hola Mundo\n"
          ]
        }
      ],
      "source": [
        "print(\"Hola Mundo\")"
      ]
    }
  ],
  "metadata": {
    "colab": {
      "collapsed_sections": [
        "azOBC9Q1jRdt",
        "9OfCF-WR1CPO",
        "e38A-HfMm2QG",
        "1ngezaFl7sx9"
      ],
      "provenance": []
    },
    "kernelspec": {
      "display_name": "venv",
      "language": "python",
      "name": "python3"
    },
    "language_info": {
      "codemirror_mode": {
        "name": "ipython",
        "version": 3
      },
      "file_extension": ".py",
      "mimetype": "text/x-python",
      "name": "python",
      "nbconvert_exporter": "python",
      "pygments_lexer": "ipython3",
      "version": "3.13.1"
    }
  },
  "nbformat": 4,
  "nbformat_minor": 0
}
